{
 "cells": [
  {
   "cell_type": "code",
   "execution_count": 43,
   "metadata": {},
   "outputs": [
    {
     "name": "stdout",
     "output_type": "stream",
     "text": [
      "Frequency sampling 44100\n",
      "Complete Samplings N 132301\n",
      "secs 3.0000226757369615\n",
      "Time between interval 2.2675736961451248e-05\n",
      "[0.00000000e+00 2.26757370e-05 4.53514739e-05 ... 2.99995465e+00\n",
      " 2.99997732e+00 3.00000000e+00]\n"
     ]
    },
    {
     "data": {
      "image/png": "[encoded data removed]",
      "text/plain": [
       "<Figure size 432x288 with 1 Axes>"
      ]
     },
     "metadata": {
      "needs_background": "light"
     },
     "output_type": "display_data"
    }
   ],
   "source": [
    "import matplotlib.pyplot as plt\n",
    "from scipy.io import wavfile as wav\n",
    "from scipy.fftpack import fft\n",
    "import numpy as np\n",
    "\n",
    "rate, data = wav.read('test2.wav')\n",
    "print(\"Frequency sampling\", rate)\n",
    "N = data.shape[0]\n",
    "print (\"Complete Samplings N\", N)\n",
    "secs = N / float(rate)\n",
    "print (\"secs\", secs)\n",
    "Ts = 1.0/rate\n",
    "print(\"Time between interval\", Ts)\n",
    "t = np.arange(0, secs, Ts)\n",
    "print(t)\n",
    "a = data\n",
    "b=[ele/2 for ele in a]\n",
    "c = fft(b) # calculate fourier transform (complex numbers list)\n",
    "d = round(len(c)/2)\n",
    "%matplotlib inline\n",
    "plt.plot(t) \n",
    "plt.show()"
   ]
  },
  {
   "cell_type": "code",
   "execution_count": 75,
   "metadata": {},
   "outputs": [
    {
     "name": "stdout",
     "output_type": "stream",
     "text": [
      "Frequency sampling 44100\n",
      "Channels 1\n",
      "Complete Samplings N 132300\n",
      "secs 3.0\n",
      "Timestep between samples Ts 2.2675736961451248e-05\n",
      "[1241.99061232]\n"
     ]
    },
    {
     "data": {
      "image/png": "[encoded data removed]",
      "text/plain": [
       "<Figure size 432x288 with 1 Axes>"
      ]
     },
     "metadata": {
      "needs_background": "light"
     },
     "output_type": "display_data"
    }
   ],
   "source": [
    "#!/usr/bin/env python\n",
    "# -*- coding: utf-8 -*-\n",
    "\n",
    "from __future__ import print_function\n",
    "import scipy.io.wavfile as wavfile\n",
    "import scipy\n",
    "from scipy.fftpack import fft\n",
    "import numpy as np\n",
    "from matplotlib import pyplot as plt\n",
    "\n",
    "fs_rate, signal = wavfile.read(\"output.wav\")\n",
    "print (\"Frequency sampling\", fs_rate)\n",
    "l_audio = len(signal.shape)\n",
    "print (\"Channels\", l_audio)\n",
    "if l_audio == 2:\n",
    "    signal = signal.sum(axis=1) / 2\n",
    "N = signal.shape[0]\n",
    "print (\"Complete Samplings N\", N)\n",
    "secs = N / float(fs_rate)\n",
    "print (\"secs\", secs)\n",
    "Ts = 1.0/fs_rate # sampling interval in time\n",
    "print (\"Timestep between samples Ts\", Ts)\n",
    "t = np.arange(0, secs, Ts) # time vector as scipy arange field / numpy.ndarray\n",
    "FFT = abs(fft(signal))\n",
    "FFT_side = FFT[range(N//2)] # one side FFT range\n",
    "freqs_side = freqs[range(N//2)] # one side frequency range\n",
    "index = np.where(FFT_side == np.amax(FFT_side))\n",
    "print(freqs_side[index[0]])\n",
    "p3 = plt.plot(freqs_side, abs(FFT_side), \"b\") # plotting the positive fft spectrum\n",
    "plt.xlabel('Frequency (Hz)')\n",
    "plt.ylabel('Count single-sided')\n",
    "plt.show()"
   ]
  },
  {
   "cell_type": "code",
   "execution_count": 73,
   "metadata": {},
   "outputs": [],
   "source": [
    "import sounddevice as sd\n",
    "from scipy.io.wavfile import write, read\n",
    "fs = 44100  \n",
    "seconds = 3\n",
    "myrecording = sd.rec(int(seconds * fs), samplerate=fs, channels=1)\n",
    "sd.wait()  \n",
    "write('output.wav', fs, myrecording)"
   ]
  },
  {
   "cell_type": "code",
   "execution_count": null,
   "metadata": {},
   "outputs": [],
   "source": []
  }
 ],
 "metadata": {
  "kernelspec": {
   "display_name": "Python 3",
   "language": "python",
   "name": "python3"
  },
  "language_info": {
   "codemirror_mode": {
    "name": "ipython",
    "version": 3
   },
   "file_extension": ".py",
   "mimetype": "text/x-python",
   "name": "python",
   "nbconvert_exporter": "python",
   "pygments_lexer": "ipython3",
   "version": "3.8.3"
  }
 },
 "nbformat": 4,
 "nbformat_minor": 4
}
